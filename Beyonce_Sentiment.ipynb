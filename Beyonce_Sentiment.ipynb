{
 "cells": [
  {
   "cell_type": "markdown",
   "id": "359fc3b6",
   "metadata": {},
   "source": [
    "# Evolution of Beyonce's Album"
   ]
  },
  {
   "cell_type": "markdown",
   "id": "0fbb16ea",
   "metadata": {},
   "source": [
    "For my final project, I will be exploring the evolution of Beyonce's albums by analyzing the trend of sentiment scores. The data used in this project includes the names of albums, titles of song, song lyrics and release year of album. My motivation for selecting this dataset is two-fold: a) Beyonce is one of the most legendary artists of the century with her career spanning over 20 years. Therefore, I believe that she would be an interesting topic of a project. b) Throughout the DH 140 course, I particularly enjoyed text analysis and data visualization. Thus, I want to use these two techniques primarily. With these reasons in mind, my research question is **this:**"
   ]
  },
  {
   "cell_type": "markdown",
   "id": "4cb588cb",
   "metadata": {},
   "source": [
    "***How have the moods of Beyonce's albums transformed over the span of her career and what is the correlation between moods and sales of her album?***\n"
   ]
  },
  {
   "cell_type": "code",
   "execution_count": null,
   "id": "9edd055d",
   "metadata": {},
   "outputs": [],
   "source": []
  }
 ],
 "metadata": {
  "kernelspec": {
   "display_name": "Python 3 (ipykernel)",
   "language": "python",
   "name": "python3"
  },
  "language_info": {
   "codemirror_mode": {
    "name": "ipython",
    "version": 3
   },
   "file_extension": ".py",
   "mimetype": "text/x-python",
   "name": "python",
   "nbconvert_exporter": "python",
   "pygments_lexer": "ipython3",
   "version": "3.10.8"
  }
 },
 "nbformat": 4,
 "nbformat_minor": 5
}
